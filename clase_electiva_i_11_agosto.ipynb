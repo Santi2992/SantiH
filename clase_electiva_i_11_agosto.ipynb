{
  "nbformat": 4,
  "nbformat_minor": 0,
  "metadata": {
    "colab": {
      "provenance": [],
      "include_colab_link": true
    },
    "kernelspec": {
      "name": "python3",
      "display_name": "Python 3"
    },
    "language_info": {
      "name": "python"
    }
  },
  "cells": [
    {
      "cell_type": "markdown",
      "metadata": {
        "id": "view-in-github",
        "colab_type": "text"
      },
      "source": [
        "<a href=\"https://colab.research.google.com/github/Santi2992/SantiH/blob/main/clase_electiva_i_11_agosto.ipynb\" target=\"_parent\"><img src=\"https://colab.research.google.com/assets/colab-badge.svg\" alt=\"Open In Colab\"/></a>"
      ]
    },
    {
      "cell_type": "code",
      "execution_count": null,
      "metadata": {
        "colab": {
          "base_uri": "https://localhost:8080/"
        },
        "id": "9cxbYpK68bQj",
        "outputId": "cae55327-eb66-4bce-805d-6dc84305ed33"
      },
      "outputs": [
        {
          "output_type": "stream",
          "name": "stdout",
          "text": [
            "yo me llamo  Santiago  y tengo  22  años\n"
          ]
        }
      ],
      "source": [
        "Nombre = \"Santiago\"\n",
        "Edad = \"22\"\n",
        "print(\"yo me llamo \",Nombre,\" y tengo \",Edad,\" años\")\n"
      ]
    },
    {
      "cell_type": "code",
      "source": [
        "Nombre = \"Nicolas\"\n",
        "Aspecto = \"con flow\"\n",
        "Asignatura = \"electiva I\""
      ],
      "metadata": {
        "id": "cTNvxUkK9rKn"
      },
      "execution_count": null,
      "outputs": []
    },
    {
      "cell_type": "code",
      "source": [
        "print (\"El profesor \",Nombre,\" de \",Asignatura,\" tiene un aspecto \",Aspecto,\"\")"
      ],
      "metadata": {
        "id": "WkJsxkLb-IbG"
      },
      "execution_count": null,
      "outputs": []
    },
    {
      "cell_type": "code",
      "source": [
        "#Ejemplo diccionario\n",
        "mi_diccionario = {\"1006386340\": \"Santiago Hernandez\",\n",
        "                  \"111797492\":\"Lamine Yamal\",\n",
        "                  \"1007381345\": \"Cristobal Colon\"}\n",
        "otro_diccionario = {1 : \"Santiago Hernandez\",\n",
        "                    2 : \"Lamine Yamal\",\n",
        "                    3 : \"Cristobal Colon\"}\n",
        "otro_diccionario[1]\n",
        "otro_diccionario2 = { 1 : [1,2,3,4,5],\n",
        "                     2 : [6,7,8,9,10],\n",
        "                      3 : {11:12,13:14}}\n",
        "                      #CLAVE 3 (FILA 3) DE LA POSICIÓN 13 QUE ES EL NÚMERO 14\n",
        "otro_diccionario2[3][13]\n"
      ],
      "metadata": {
        "colab": {
          "base_uri": "https://localhost:8080/"
        },
        "id": "xvLATzGJD5XL",
        "outputId": "beb47903-c078-476c-8ddf-f4898eefb442"
      },
      "execution_count": null,
      "outputs": [
        {
          "output_type": "execute_result",
          "data": {
            "text/plain": [
              "14"
            ]
          },
          "metadata": {},
          "execution_count": 24
        }
      ]
    },
    {
      "cell_type": "code",
      "source": [
        "#ejercicio en clase, extraer valores\n",
        "diccionario_complejo = { 1 : [1,2,3,4,5,[5,6,7,8,9,[6,7,8]]],\n",
        "2: [5,6,7,8,9],\n",
        "3: {1:2,2:3,6:[9,10,'extraer este valor']}\n",
        "}\n",
        "\n",
        "diccionario_complejo[1][5][5][2]"
      ],
      "metadata": {
        "colab": {
          "base_uri": "https://localhost:8080/"
        },
        "id": "ACM4r56-HHlS",
        "outputId": "39194257-0603-4367-c91f-b67960c5e859"
      },
      "execution_count": null,
      "outputs": [
        {
          "output_type": "execute_result",
          "data": {
            "text/plain": [
              "8"
            ]
          },
          "metadata": {},
          "execution_count": 37
        }
      ]
    },
    {
      "cell_type": "code",
      "source": [
        "diccionario_complejo[3][6][2]"
      ],
      "metadata": {
        "colab": {
          "base_uri": "https://localhost:8080/",
          "height": 35
        },
        "id": "B8lvRcU4Ifhq",
        "outputId": "3b991e93-4f3d-4f49-9fec-8b72cc88b6e0"
      },
      "execution_count": null,
      "outputs": [
        {
          "output_type": "execute_result",
          "data": {
            "text/plain": [
              "'extraer este valor'"
            ],
            "application/vnd.google.colaboratory.intrinsic+json": {
              "type": "string"
            }
          },
          "metadata": {},
          "execution_count": 36
        }
      ]
    },
    {
      "cell_type": "code",
      "source": [
        "#CONDICIONALES Y FUNCIONES\n",
        "# condicional if\n",
        "estudiantes = {\"Santiago\":{\"Edad\":18,\"semestre\":6},\n",
        "               \"Nicolas\":{\"Edad\":16,\"semestre\":9}}\n",
        "if estudiantes [\"Santiago\"][\"Edad\"]>=18:\n",
        "  print(\"Es mayor de edad\")\n",
        "else:\n",
        "  print(\"Es menor de edad\")"
      ],
      "metadata": {
        "colab": {
          "base_uri": "https://localhost:8080/"
        },
        "id": "9oU1eQDSJWIi",
        "outputId": "b8074ee9-cf90-457f-b7b3-ad1aaa8157da"
      },
      "execution_count": null,
      "outputs": [
        {
          "output_type": "stream",
          "name": "stdout",
          "text": [
            "Es mayor de edad\n"
          ]
        }
      ]
    },
    {
      "cell_type": "code",
      "source": [
        "#Por medio de condicionales crear un sistema de calificación\n",
        "#1). crear diccionario para guardar los nombres y la nota de 5 estudiantes.\n",
        "#2). crear si la persona ganó o perdió la materia.\n",
        "\n",
        "#usamos condicional if - elif - else\n",
        "\n",
        "estudiantes_habilitación = {\"Lamine Yamal\":{\"Nota\":5},\n",
        "                            \"Simon Bolivar\":{\"Nota\":4},\n",
        "                            \"Juanes Garzon\":{\"Nota\":2},\n",
        "                            \"Nicolas Restrepo\":{\"Nota\":2.955},\n",
        "                            \"Cristian Gañan\":{\"Nota\":1}}\n",
        " if estudiantes_habilitación[\"Lamine Yamal\"][\"Nota\"]>=5:\n",
        " print (\"gano la materia\")\n",
        " else\n",
        " print (\"perdio la materia\")\n"
      ],
      "metadata": {
        "colab": {
          "base_uri": "https://localhost:8080/",
          "height": 106
        },
        "id": "HpfPy28rLgBj",
        "outputId": "192cb022-819d-41a0-97ea-4e8ee5ca1f7d"
      },
      "execution_count": null,
      "outputs": [
        {
          "output_type": "error",
          "ename": "IndentationError",
          "evalue": "unexpected indent (ipython-input-3422266112.py, line 12)",
          "traceback": [
            "\u001b[0;36m  File \u001b[0;32m\"/tmp/ipython-input-3422266112.py\"\u001b[0;36m, line \u001b[0;32m12\u001b[0m\n\u001b[0;31m    if estudiantes_habilitación[\"Lamine Yamal\"][\"Nota\"]>=5:\u001b[0m\n\u001b[0m    ^\u001b[0m\n\u001b[0;31mIndentationError\u001b[0m\u001b[0;31m:\u001b[0m unexpected indent\n"
          ]
        }
      ]
    }
  ]
}